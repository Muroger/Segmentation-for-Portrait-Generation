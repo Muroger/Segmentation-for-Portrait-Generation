{
 "cells": [
  {
   "cell_type": "code",
   "execution_count": 5,
   "metadata": {},
   "outputs": [],
   "source": [
    "import os\n",
    "from pathlib import Path\n",
    "import pandas as pd\n",
    "import cv2\n",
    "from torch.utils.data import DataLoader, Dataset, sampler\n",
    "from sklearn.model_selection import train_test_split\n",
    "import matplotlib.pyplot as plt\n",
    "\n",
    "from albumentations.pytorch import ToTensor"
   ]
  },
  {
   "cell_type": "code",
   "execution_count": 30,
   "metadata": {},
   "outputs": [],
   "source": [
    "path = '/media/hdd/code/unet_portrait/U-2-Net/APDrawingDB/data/test/'\n",
    "path_save = '/media/hdd/code/unet_portrait/U-2-Net/APDrawingDB/data/'\n",
    "img_names = os.listdir(path)\n",
    "for img_name in img_names:\n",
    "    img = cv2.imread(path+img_name)\n",
    "    cv2.imwrite(path_save+'test_imgs/'+img_name, img[:,:512,:])\n",
    "    cv2.imwrite(path_save+'test_masks/'+img_name, img[:,512:,:])"
   ]
  },
  {
   "cell_type": "code",
   "execution_count": 31,
   "metadata": {},
   "outputs": [],
   "source": [
    "path = '/media/hdd/code/unet_portrait/U-2-Net/APDrawingDB/data/train/'\n",
    "path_save = '/media/hdd/code/unet_portrait/U-2-Net/APDrawingDB/data/'\n",
    "img_names = os.listdir(path)\n",
    "for img_name in img_names:\n",
    "    img = cv2.imread(path+img_name)\n",
    "    cv2.imwrite(path_save+'train_imgs/'+img_name, img[:,:512,:])\n",
    "    cv2.imwrite(path_save+'train_masks/'+img_name, img[:,512:,:])"
   ]
  },
  {
   "cell_type": "code",
   "execution_count": null,
   "metadata": {},
   "outputs": [],
   "source": []
  },
  {
   "cell_type": "code",
   "execution_count": null,
   "metadata": {},
   "outputs": [],
   "source": []
  }
 ],
 "metadata": {
  "kernelspec": {
   "display_name": "Python 3",
   "language": "python",
   "name": "python3"
  },
  "language_info": {
   "codemirror_mode": {
    "name": "ipython",
    "version": 3
   },
   "file_extension": ".py",
   "mimetype": "text/x-python",
   "name": "python",
   "nbconvert_exporter": "python",
   "pygments_lexer": "ipython3",
   "version": "3.7.6"
  }
 },
 "nbformat": 4,
 "nbformat_minor": 4
}
